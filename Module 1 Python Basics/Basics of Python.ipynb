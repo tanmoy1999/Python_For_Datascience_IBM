{
 "cells": [
  {
   "cell_type": "markdown",
   "metadata": {},
   "source": [
    "# Python Basics"
   ]
  },
  {
   "cell_type": "code",
   "execution_count": 6,
   "metadata": {},
   "outputs": [
    {
     "name": "stdout",
     "output_type": "stream",
     "text": [
      "Hello World\n",
      "\n",
      "\n",
      "its\n",
      "Me\n"
     ]
    }
   ],
   "source": [
    "# Write First Program\n",
    "\n",
    "print('Hello World')\n",
    "print('\\n')\n",
    "print('its\\nMe') # '\\n' is used for next line"
   ]
  },
  {
   "cell_type": "code",
   "execution_count": 27,
   "metadata": {},
   "outputs": [
    {
     "name": "stdout",
     "output_type": "stream",
     "text": [
      "Addtion Opperation\n",
      "Addition of two numbers: 10 + 24 =  34\n",
      "Addition of two numbers:  10 + 25 is 35\n",
      "35\n",
      "\n",
      "\n",
      "Substraction Opperation\n",
      "Substraction of two numbers: 10 + 24 =  -14\n",
      "Substraction of two numbers:  25 - 10 is 15\n",
      "15\n",
      "\n",
      "\n",
      "Division Opperation\n",
      "Division of two numbers: 10 + 24 =  0.4166666666666667\n",
      "Division of two numbers:  25 + 10 is 2.5\n",
      "Approx. Division:  0\n",
      "2.5\n",
      "\n",
      "\n",
      "Multiplication Opperation\n",
      "Multiplication of two numbers: 10 * 24 =  240\n",
      "Multiplication of two numbers:  10 * 25 is 250\n",
      "250\n",
      "\n",
      "\n",
      "Exponential Opperation\n",
      "Multiplication of two numbers: 10 ^ 24 =  100\n",
      "Multiplication of two numbers:  2 ^ 25 is 33554432\n",
      "33554432\n",
      "\n",
      "\n",
      "True\n",
      "False\n",
      "\n"
     ]
    }
   ],
   "source": [
    "# Types \n",
    "# Integers, Float, String, Bollean\n",
    "\n",
    "#Addtion Opperation\n",
    "print('Addtion Opperation')\n",
    "a = 10\n",
    "b = 25\n",
    "c = 10+20\n",
    "print('Addition of two numbers: 10 + 24 = ',10+24)\n",
    "print('Addition of two numbers: ',a,'+',b,'is',a+b)\n",
    "print(a+b)\n",
    "print('\\n')\n",
    "\n",
    "#Substraction Opperation\n",
    "print('Substraction Opperation')\n",
    "a = 25\n",
    "b = 10\n",
    "c = 10-20\n",
    "print('Substraction of two numbers: 10 + 24 = ',10-24)\n",
    "print('Substraction of two numbers: ',a,'-',b,'is',a-b)\n",
    "print(a-b)\n",
    "print('\\n')\n",
    "\n",
    "#Division Opperation\n",
    "print('Division Opperation')\n",
    "a = 25\n",
    "b = 10\n",
    "c = 10/20\n",
    "print('Division of two numbers: 10 + 24 = ',10/24)\n",
    "print('Division of two numbers: ',a,'+',b,'is',a/b)\n",
    "print('Approx. Division: ',b//a)\n",
    "print(a/b)\n",
    "print('\\n')\n",
    "\n",
    "#Multiplication Opperation\n",
    "print('Multiplication Opperation')\n",
    "a = 10\n",
    "b = 25\n",
    "c = 10+20\n",
    "print('Multiplication of two numbers: 10 * 24 = ',10*24)\n",
    "print('Multiplication of two numbers: ',a,'*',b,'is',a*b)\n",
    "print(a*b)\n",
    "print('\\n')\n",
    "\n",
    "#Exponential Opperation\n",
    "print('Exponential Opperation')\n",
    "a = 2\n",
    "b = 25\n",
    "c = 10*20\n",
    "print('Multiplication of two numbers: 10 ^ 24 = ',10**2)\n",
    "print('Multiplication of two numbers: ',a,'^',b,'is',a**b)\n",
    "print(a**b)\n",
    "print('\\n')\n",
    "\n",
    "#Bollean Operation\n",
    "print(bool(1))   \n",
    "print(bool(0))\n"
   ]
  },
  {
   "cell_type": "code",
   "execution_count": 33,
   "metadata": {},
   "outputs": [
    {
     "data": {
      "text/plain": [
       "'1'"
      ]
     },
     "execution_count": 33,
     "metadata": {},
     "output_type": "execute_result"
    }
   ],
   "source": [
    "#changing type of data\n",
    "\n",
    "a = 1 # a is in int form\n",
    "\n",
    "float(a) # converted to float form\n",
    "str(1) #converted to string form"
   ]
  },
  {
   "cell_type": "code",
   "execution_count": null,
   "metadata": {},
   "outputs": [],
   "source": []
  }
 ],
 "metadata": {
  "kernelspec": {
   "display_name": "Python 3",
   "language": "python",
   "name": "python3"
  },
  "language_info": {
   "codemirror_mode": {
    "name": "ipython",
    "version": 3
   },
   "file_extension": ".py",
   "mimetype": "text/x-python",
   "name": "python",
   "nbconvert_exporter": "python",
   "pygments_lexer": "ipython3",
   "version": "3.6.3"
  }
 },
 "nbformat": 4,
 "nbformat_minor": 4
}
