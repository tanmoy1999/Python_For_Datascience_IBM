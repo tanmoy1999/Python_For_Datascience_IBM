{
 "cells": [
  {
   "cell_type": "markdown",
   "metadata": {},
   "source": [
    "# Python Basics"
   ]
  },
  {
   "cell_type": "code",
   "execution_count": 6,
   "metadata": {},
   "outputs": [
    {
     "name": "stdout",
     "output_type": "stream",
     "text": [
      "Hello World\n",
      "\n",
      "\n",
      "its\n",
      "Me\n"
     ]
    }
   ],
   "source": [
    "# Write First Program\n",
    "\n",
    "print('Hello World')\n",
    "print('\\n')\n",
    "print('its\\nMe') # '\\n' is used for next line"
   ]
  },
  {
   "cell_type": "code",
   "execution_count": 27,
   "metadata": {},
   "outputs": [
    {
     "name": "stdout",
     "output_type": "stream",
     "text": [
      "Addtion Opperation\n",
      "Addition of two numbers: 10 + 24 =  34\n",
      "Addition of two numbers:  10 + 25 is 35\n",
      "35\n",
      "\n",
      "\n",
      "Substraction Opperation\n",
      "Substraction of two numbers: 10 + 24 =  -14\n",
      "Substraction of two numbers:  25 - 10 is 15\n",
      "15\n",
      "\n",
      "\n",
      "Division Opperation\n",
      "Division of two numbers: 10 + 24 =  0.4166666666666667\n",
      "Division of two numbers:  25 + 10 is 2.5\n",
      "Approx. Division:  0\n",
      "2.5\n",
      "\n",
      "\n",
      "Multiplication Opperation\n",
      "Multiplication of two numbers: 10 * 24 =  240\n",
      "Multiplication of two numbers:  10 * 25 is 250\n",
      "250\n",
      "\n",
      "\n",
      "Exponential Opperation\n",
      "Multiplication of two numbers: 10 ^ 24 =  100\n",
      "Multiplication of two numbers:  2 ^ 25 is 33554432\n",
      "33554432\n",
      "\n",
      "\n",
      "True\n",
      "False\n",
      "\n"
     ]
    }
   ],
   "source": [
    "# Types \n",
    "# Integers, Float, String, Bollean\n",
    "\n",
    "#Addtion Opperation\n",
    "print('Addtion Opperation')\n",
    "a = 10\n",
    "b = 25\n",
    "c = 10+20\n",
    "print('Addition of two numbers: 10 + 24 = ',10+24)\n",
    "print('Addition of two numbers: ',a,'+',b,'is',a+b)\n",
    "print(a+b)\n",
    "print('\\n')\n",
    "\n",
    "#Substraction Opperation\n",
    "print('Substraction Opperation')\n",
    "a = 25\n",
    "b = 10\n",
    "c = 10-20\n",
    "print('Substraction of two numbers: 10 + 24 = ',10-24)\n",
    "print('Substraction of two numbers: ',a,'-',b,'is',a-b)\n",
    "print(a-b)\n",
    "print('\\n')\n",
    "\n",
    "#Division Opperation\n",
    "print('Division Opperation')\n",
    "a = 25\n",
    "b = 10\n",
    "c = 10/20\n",
    "print('Division of two numbers: 10 + 24 = ',10/24)\n",
    "print('Division of two numbers: ',a,'+',b,'is',a/b)\n",
    "print('Approx. Division: ',b//a)\n",
    "print(a/b)\n",
    "print('\\n')\n",
    "\n",
    "#Multiplication Opperation\n",
    "print('Multiplication Opperation')\n",
    "a = 10\n",
    "b = 25\n",
    "c = 10+20\n",
    "print('Multiplication of two numbers: 10 * 24 = ',10*24)\n",
    "print('Multiplication of two numbers: ',a,'*',b,'is',a*b)\n",
    "print(a*b)\n",
    "print('\\n')\n",
    "\n",
    "#Exponential Opperation\n",
    "print('Exponential Opperation')\n",
    "a = 2\n",
    "b = 25\n",
    "c = 10*20\n",
    "print('Multiplication of two numbers: 10 ^ 24 = ',10**2)\n",
    "print('Multiplication of two numbers: ',a,'^',b,'is',a**b)\n",
    "print(a**b)\n",
    "print('\\n')\n",
    "\n",
    "#Bollean Operation\n",
    "print(bool(1))   \n",
    "print(bool(0))\n"
   ]
  },
  {
   "cell_type": "code",
   "execution_count": 33,
   "metadata": {},
   "outputs": [
    {
     "data": {
      "text/plain": [
       "'1'"
      ]
     },
     "execution_count": 33,
     "metadata": {},
     "output_type": "execute_result"
    }
   ],
   "source": [
    "#changing type of data\n",
    "\n",
    "a = 1 # a is in int form\n",
    "\n",
    "float(a) # converted to float form\n",
    "str(1) #converted to string form"
   ]
  },
  {
   "cell_type": "code",
   "execution_count": 42,
   "metadata": {},
   "outputs": [
    {
     "name": "stdout",
     "output_type": "stream",
     "text": [
      "30\n",
      "140.5 min\n",
      "7200 seconds\n"
     ]
    }
   ],
   "source": [
    "# Storing Values\n",
    "\n",
    "a = 10\n",
    "b = 20\n",
    "c = a+b\n",
    "print(c)\n",
    "\n",
    "#convert 02h 20m 30s to total mins\n",
    "total_min = 2*60+20+30/60\n",
    "print(total_min,'min')\n",
    "\n",
    "#convert 2 hrs into seconds\n",
    "\n",
    "hrs = 2\n",
    "sec_hrs = 60*60\n",
    "sec = hrs * sec_hrs\n",
    "print(sec,'seconds')"
   ]
  },
  {
   "cell_type": "code",
   "execution_count": 81,
   "metadata": {},
   "outputs": [
    {
     "name": "stdout",
     "output_type": "stream",
     "text": [
      "hello\n",
      "hello\n",
      "\n",
      "\n",
      "e\n",
      "llo wo\n",
      "hlowrd\n",
      "w o\n",
      "\n",
      "\n",
      "hello Mate\n",
      "\n",
      "\n",
      "hello worldhello worldhello world\n",
      "My Name is Tanmoy Munshi\n",
      "\n",
      "\n",
      "HELLO WORLD\n",
      "hello world\n",
      "\n",
      "\n"
     ]
    },
    {
     "data": {
      "text/plain": [
       "2"
      ]
     },
     "execution_count": 81,
     "metadata": {},
     "output_type": "execute_result"
    }
   ],
   "source": [
    "#String operation\n",
    "\n",
    "print('hello')\n",
    "print(\"hello\")\n",
    "\n",
    "print('\\n')\n",
    "\n",
    "a = 'hello world'\n",
    "print(a[1])\n",
    "print(a[2:8])\n",
    "print(a[::2]) #printng charcter with a space of 2\n",
    "print(a[-5:-8:-1])\n",
    "\n",
    "print('\\n')\n",
    "\n",
    "#length of string\n",
    "\n",
    "len(a)\n",
    "print(a[:5],'Mate')\n",
    "\n",
    "print('\\n')\n",
    "\n",
    "#replicate String\n",
    "print(3*a)\n",
    "\n",
    "first_name = 'Tanmoy'\n",
    "last_name = 'Munshi'\n",
    "print('My Name is',first_name,last_name)\n",
    "\n",
    "print('\\n')\n",
    "\n",
    "#lower case to upper case\n",
    "print(a.upper()) #for upper case\n",
    "\n",
    "print(a.lower()) #for lower case\n",
    "\n",
    "print('\\n')\n",
    "\n",
    "#replace a string\n",
    "a = 'this is a dog'\n",
    "a.replace('dog','cat')\n",
    "\n",
    "\n",
    "#finding string\n",
    "a.find('i')"
   ]
  },
  {
   "cell_type": "code",
   "execution_count": 87,
   "metadata": {},
   "outputs": [
    {
     "name": "stdout",
     "output_type": "stream",
     "text": [
      "02468\n"
     ]
    },
    {
     "data": {
      "text/plain": [
       "1"
      ]
     },
     "execution_count": 87,
     "metadata": {},
     "output_type": "execute_result"
    }
   ],
   "source": [
    "#EXAMPLES\n",
    "\n",
    "#find even nos of a = \"0123456789\"\n",
    "a = \"0123456789\"\n",
    "\n",
    "#find the 1 in a\n",
    "print(a[::2])\n",
    "a.find('1')\n"
   ]
  },
  {
   "cell_type": "code",
   "execution_count": 88,
   "metadata": {},
   "outputs": [
    {
     "data": {
      "text/plain": [
       "True"
      ]
     },
     "execution_count": 88,
     "metadata": {},
     "output_type": "execute_result"
    }
   ],
   "source": [
    "bool(1)"
   ]
  },
  {
   "cell_type": "code",
   "execution_count": null,
   "metadata": {},
   "outputs": [],
   "source": [
    " "
   ]
  }
 ],
 "metadata": {
  "kernelspec": {
   "display_name": "Python 3",
   "language": "python",
   "name": "python3"
  },
  "language_info": {
   "codemirror_mode": {
    "name": "ipython",
    "version": 3
   },
   "file_extension": ".py",
   "mimetype": "text/x-python",
   "name": "python",
   "nbconvert_exporter": "python",
   "pygments_lexer": "ipython3",
   "version": "3.6.3"
  }
 },
 "nbformat": 4,
 "nbformat_minor": 4
}
