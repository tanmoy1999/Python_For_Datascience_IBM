{
 "cells": [
  {
   "cell_type": "markdown",
   "metadata": {},
   "source": [
    "# Python Data Structures\n",
    "\n",
    "### Learning Objectives\n",
    "\n",
    "In this lesson you will learn about:\n",
    "1. Lists and Tuples \n",
    "2. Sets\n",
    "3. Dictionaries "
   ]
  },
  {
   "cell_type": "markdown",
   "metadata": {},
   "source": [
    "## 1. List and Tupples\n",
    "\n",
    "Tupples are written in comma separated form within  paranthesis"
   ]
  },
  {
   "cell_type": "markdown",
   "metadata": {},
   "source": [
    "### a. Tupple\n",
    "\n",
    "1. tupples are immutable\n",
    "2. elements are inside ( )"
   ]
  },
  {
   "cell_type": "code",
   "execution_count": 23,
   "metadata": {},
   "outputs": [
    {
     "name": "stdout",
     "output_type": "stream",
     "text": [
      "('hey', 1, 3.4)\n",
      "('hey', 1, 3.4, 'its', 2, 4.4)\n"
     ]
    }
   ],
   "source": [
    "tupple1 = ('hey',1,3.4)\n",
    "type(tupple1)\n",
    "print(tupple1[:])\n",
    "\n",
    "tupple2 = ('its',2,4.4)\n",
    "concat_tupple = tupple1+tupple2\n",
    "print(concat_tupple)"
   ]
  },
  {
   "cell_type": "code",
   "execution_count": 21,
   "metadata": {},
   "outputs": [
    {
     "name": "stdout",
     "output_type": "stream",
     "text": [
      "('hey', 1, 3.4, 'its')\n"
     ]
    }
   ],
   "source": [
    "#slicing of tupples\n",
    "print(concat_tupple[0:4])    #index should be 1 larger than the index you want"
   ]
  },
  {
   "cell_type": "code",
   "execution_count": 22,
   "metadata": {},
   "outputs": [
    {
     "data": {
      "text/plain": [
       "6"
      ]
     },
     "execution_count": 22,
     "metadata": {},
     "output_type": "execute_result"
    }
   ],
   "source": [
    "#length of the tupple\n",
    "len(concat_tupple)"
   ]
  },
  {
   "cell_type": "code",
   "execution_count": 32,
   "metadata": {},
   "outputs": [
    {
     "name": "stdout",
     "output_type": "stream",
     "text": [
      "[1, 2, 12, 23, 32, 42, 124]\n"
     ]
    }
   ],
   "source": [
    "#tupples can be sorted\n",
    "\n",
    "a = (12,1,42,124,32,23,2)\n",
    "b = sorted(a)\n",
    "print(b)"
   ]
  },
  {
   "cell_type": "code",
   "execution_count": 45,
   "metadata": {},
   "outputs": [
    {
     "name": "stdout",
     "output_type": "stream",
     "text": [
      "(1, 2, 4, ('hey', 8.9), 6, ('jej', ('sad', 2, 4.4)), 8)\n"
     ]
    },
    {
     "data": {
      "text/plain": [
       "'d'"
      ]
     },
     "execution_count": 45,
     "metadata": {},
     "output_type": "execute_result"
    }
   ],
   "source": [
    "# Tupples Nesting\n",
    "\n",
    "tup = (1,2,4,('hey',8.9),6,('jej',('sad',2,4.4)),8)\n",
    "print(tup)\n",
    "\n",
    "tup[3][1] #print hey\n",
    "tup[3] #print ('hey',8.9)\n",
    "tup[5][1][2] #print 2\n",
    "tup[5][1][0][2] #print d\n",
    "\n"
   ]
  },
  {
   "cell_type": "markdown",
   "metadata": {},
   "source": [
    "### b. Lists \n",
    "\n",
    "1. Lists are mutable\n",
    "2. It can contain Tupple inside a list\n",
    "3. elements are inside [ ]"
   ]
  },
  {
   "cell_type": "code",
   "execution_count": 58,
   "metadata": {},
   "outputs": [
    {
     "data": {
      "text/plain": [
       "['tanmoy', 20, 7.5, 'Munshi', 20]"
      ]
     },
     "execution_count": 58,
     "metadata": {},
     "output_type": "execute_result"
    }
   ],
   "source": [
    "# List can be extended or immutable\n",
    "\n",
    "list1 = ['tanmoy',20,7.5]\n",
    "list1.extend(['Munshi',20])\n",
    "list1[3] # Outputs 'Munshi'\n",
    "list1"
   ]
  },
  {
   "cell_type": "code",
   "execution_count": 60,
   "metadata": {},
   "outputs": [
    {
     "data": {
      "text/plain": [
       "['tanmoy', 20, 7.5, ['Munshi', 20]]"
      ]
     },
     "execution_count": 60,
     "metadata": {},
     "output_type": "execute_result"
    }
   ],
   "source": [
    "# Append in a list\n",
    "\n",
    "list2 = ['tanmoy',20,7.5]\n",
    "list2.append(['Munshi',20])\n",
    "\n",
    "list2[3] # Outputs ['Munshi', 20]\n",
    "list2[3][0] # Outputs 'Munshi'\n",
    "list2"
   ]
  },
  {
   "cell_type": "code",
   "execution_count": 63,
   "metadata": {},
   "outputs": [
    {
     "data": {
      "text/plain": [
       "['tanmoy', 20]"
      ]
     },
     "execution_count": 63,
     "metadata": {},
     "output_type": "execute_result"
    }
   ],
   "source": [
    "# Lists element can be deleted\n",
    "\n",
    "del(list2[2])\n",
    "list2"
   ]
  },
  {
   "cell_type": "code",
   "execution_count": 64,
   "metadata": {},
   "outputs": [
    {
     "data": {
      "text/plain": [
       "['Tanmoy', 'Munshi']"
      ]
     },
     "execution_count": 64,
     "metadata": {},
     "output_type": "execute_result"
    }
   ],
   "source": [
    "# We can split a string. .split() splits a string which is separated by a space\n",
    "\n",
    "name = 'Tanmoy Munshi'\n",
    "name.split()\n"
   ]
  },
  {
   "cell_type": "code",
   "execution_count": 69,
   "metadata": {},
   "outputs": [
    {
     "data": {
      "text/plain": [
       "['a', 'f', 'w', 't']"
      ]
     },
     "execution_count": 69,
     "metadata": {},
     "output_type": "execute_result"
    }
   ],
   "source": [
    "# We can split a string. .split() splits a string which is separated by a character\n",
    "\n",
    "numbs = 'a,f,w,t'\n",
    "numbs.split(\",\")"
   ]
  },
  {
   "cell_type": "code",
   "execution_count": 80,
   "metadata": {},
   "outputs": [
    {
     "data": {
      "text/plain": [
       "[1, 2, 4, 5, 1]"
      ]
     },
     "execution_count": 80,
     "metadata": {},
     "output_type": "execute_result"
    }
   ],
   "source": [
    "# lists can be cloned using [:]\n",
    "\n",
    "a = [1,2,4,5,1]\n",
    "n=a\n",
    "n[2] = 3\n",
    "a        # Output [1, 2, 3, 5, 1]\n",
    "\n",
    "# This results change the values of 'a' variable\n",
    "# this is called aliasing effect\n",
    "\n",
    "# Cloning a list\n",
    "\n",
    "b = [1,2,4,5,1]\n",
    "c = b[:]\n",
    "c[3] = 6\n",
    "c   # Ouptput [1, 2, 4, 6, 1]\n",
    "b   # Ouptput [1, 2, 4, 5, 1]\n",
    "\n",
    "#So there is no chanege of real data \n",
    "\n"
   ]
  },
  {
   "cell_type": "code",
   "execution_count": 83,
   "metadata": {},
   "outputs": [],
   "source": [
    "n = [1, 2, 4, 5, 3]"
   ]
  },
  {
   "cell_type": "code",
   "execution_count": 87,
   "metadata": {},
   "outputs": [
    {
     "data": {
      "text/plain": [
       "[1, 2]"
      ]
     },
     "execution_count": 87,
     "metadata": {},
     "output_type": "execute_result"
    }
   ],
   "source": [
    "n[0:2]"
   ]
  },
  {
   "cell_type": "markdown",
   "metadata": {},
   "source": [
    "## 2. Sets\n",
    "\n",
    "1. It can input different element types\n",
    "2. It do not record element position\n",
    "3. Sets only have unique elements\n",
    "4. Elements are placed inside { }"
   ]
  },
  {
   "cell_type": "code",
   "execution_count": 89,
   "metadata": {},
   "outputs": [
    {
     "data": {
      "text/plain": [
       "{1, 2, 3, 4, 5}"
      ]
     },
     "execution_count": 89,
     "metadata": {},
     "output_type": "execute_result"
    }
   ],
   "source": [
    "# Sets don't have duplicate elements\n",
    "\n",
    "set1 = {1,4,2,5,1,3,2,5}\n",
    "set1"
   ]
  },
  {
   "cell_type": "code",
   "execution_count": 93,
   "metadata": {},
   "outputs": [
    {
     "data": {
      "text/plain": [
       "{2, 4, 5, 12}"
      ]
     },
     "execution_count": 93,
     "metadata": {},
     "output_type": "execute_result"
    }
   ],
   "source": [
    "# Converting List to a Set this is called type Casting\n",
    "\n",
    "list5 = [2,2,5,12,4,2,5,5]\n",
    "set2 = set(list5)\n",
    "set2\n"
   ]
  },
  {
   "cell_type": "markdown",
   "metadata": {},
   "source": [
    "### Set Operations"
   ]
  },
  {
   "cell_type": "code",
   "execution_count": 100,
   "metadata": {},
   "outputs": [
    {
     "data": {
      "text/plain": [
       "{19.7, 20, 'ECE', 'munshi', 'tanmoy'}"
      ]
     },
     "execution_count": 100,
     "metadata": {},
     "output_type": "execute_result"
    }
   ],
   "source": [
    "set3 = {'tanmoy','munshi',20,19.7}\n",
    "set3\n",
    "# ADD element into the set\n",
    "\n",
    "set3.add('ECE')\n",
    "set3"
   ]
  },
  {
   "cell_type": "code",
   "execution_count": 101,
   "metadata": {},
   "outputs": [
    {
     "data": {
      "text/plain": [
       "{20, 'ECE', 'munshi', 'tanmoy'}"
      ]
     },
     "execution_count": 101,
     "metadata": {},
     "output_type": "execute_result"
    }
   ],
   "source": [
    "#Remove element from set\n",
    "\n",
    "set3.remove(19.7)\n",
    "set3    # Output {20, 'ECE', 'munshi', 'tanmoy'}"
   ]
  },
  {
   "cell_type": "code",
   "execution_count": 103,
   "metadata": {},
   "outputs": [
    {
     "data": {
      "text/plain": [
       "False"
      ]
     },
     "execution_count": 103,
     "metadata": {},
     "output_type": "execute_result"
    }
   ],
   "source": [
    "# Check elements in a set using 'in'\n",
    "\n",
    "20 in set3 # True\n",
    "19 in set3 # False"
   ]
  },
  {
   "cell_type": "markdown",
   "metadata": {},
   "source": [
    "### Mathematical Operations in Set"
   ]
  },
  {
   "cell_type": "code",
   "execution_count": 104,
   "metadata": {},
   "outputs": [
    {
     "data": {
      "text/plain": [
       "{2020, 'Man'}"
      ]
     },
     "execution_count": 104,
     "metadata": {},
     "output_type": "execute_result"
    }
   ],
   "source": [
    "# Use of & to find the common of two set or Intersection\n",
    "\n",
    "setA = {'Super','Man',2020,10.5}\n",
    "setB = {'Bat','Man',30.6,2020}\n",
    " \n",
    "setA&setB  # Output {2020, 'Man'}\n"
   ]
  },
  {
   "cell_type": "code",
   "execution_count": 105,
   "metadata": {},
   "outputs": [
    {
     "data": {
      "text/plain": [
       "{10.5, 2020, 30.6, 'Bat', 'Man', 'Super'}"
      ]
     },
     "execution_count": 105,
     "metadata": {},
     "output_type": "execute_result"
    }
   ],
   "source": [
    "# Union of two sets using .union()\n",
    "\n",
    "setA.union(setB)"
   ]
  },
  {
   "cell_type": "code",
   "execution_count": 106,
   "metadata": {},
   "outputs": [
    {
     "data": {
      "text/plain": [
       "False"
      ]
     },
     "execution_count": 106,
     "metadata": {},
     "output_type": "execute_result"
    }
   ],
   "source": [
    "# Checking if the set is a subset of the other set\n",
    "\n",
    "setA.issubset(setB)"
   ]
  },
  {
   "cell_type": "markdown",
   "metadata": {},
   "source": [
    "# 3. Dictionaries\n",
    "1. Dictionaries has key instead of indexes it doesn't has to be a value usually charc\n",
    "2. It is inside { }\n",
    "3. Keys are the 1st element. It must be immutable and unique\n",
    "4. Separated by ,"
   ]
  },
  {
   "cell_type": "code",
   "execution_count": 108,
   "metadata": {},
   "outputs": [
    {
     "data": {
      "text/plain": [
       "{'Key1': 1, 'Key2': [2, 2, 4], 'Key4': (4, 4, 4), 'key5': 5}"
      ]
     },
     "execution_count": 108,
     "metadata": {},
     "output_type": "execute_result"
    }
   ],
   "source": [
    "# Dictionaries are defiend by\n",
    "exampleDic = {\"Key1\":1,\"Key2\":[2,2,4],\"Key4\":(4,4,4),('key5'):5}\n",
    "exampleDic"
   ]
  },
  {
   "cell_type": "code",
   "execution_count": 112,
   "metadata": {},
   "outputs": [
    {
     "data": {
      "text/plain": [
       "{'tanmoy': 1999, 'Soumendu': 1999, 'Indranil': 1998, 'Soumashis': 1999}"
      ]
     },
     "execution_count": 112,
     "metadata": {},
     "output_type": "execute_result"
    }
   ],
   "source": [
    "# More Example\n",
    "\n",
    "NameDOB = {'tanmoy':1999,'Soumendu':1999,'Indranil':1998,'Soumashis':1999}\n",
    "NameDOB"
   ]
  },
  {
   "cell_type": "code",
   "execution_count": 133,
   "metadata": {},
   "outputs": [
    {
     "data": {
      "text/plain": [
       "{'tanmoy': 1999,\n",
       " 'Soumendu': 1999,\n",
       " 'Indranil': 1998,\n",
       " 'Soumashis': 1999,\n",
       " 'Sandipan': 1997,\n",
       " 'Swapnil': 1999,\n",
       " 'None': 1000}"
      ]
     },
     "execution_count": 133,
     "metadata": {},
     "output_type": "execute_result"
    }
   ],
   "source": [
    "NameDOB['tanmoy']\n",
    "\n",
    "#Add another entry to the dictionary\n",
    "\n",
    "NameDOB['Sandipan'] = 1997\n",
    "NameDOB['Swapnil'] = 1999\n",
    "NameDOB['None'] = 1000\n",
    "NameDOB"
   ]
  },
  {
   "cell_type": "code",
   "execution_count": 134,
   "metadata": {},
   "outputs": [
    {
     "data": {
      "text/plain": [
       "{'tanmoy': 1999,\n",
       " 'Soumendu': 1999,\n",
       " 'Indranil': 1998,\n",
       " 'Soumashis': 1999,\n",
       " 'Sandipan': 1997,\n",
       " 'Swapnil': 1999}"
      ]
     },
     "execution_count": 134,
     "metadata": {},
     "output_type": "execute_result"
    }
   ],
   "source": [
    "#Delete Element from Dictionary\n",
    "\n",
    "del(NameDOB['None'])\n",
    "NameDOB"
   ]
  },
  {
   "cell_type": "code",
   "execution_count": 136,
   "metadata": {},
   "outputs": [
    {
     "data": {
      "text/plain": [
       "False"
      ]
     },
     "execution_count": 136,
     "metadata": {},
     "output_type": "execute_result"
    }
   ],
   "source": [
    "# Verify element in the dictionary or not\n",
    "\n",
    "'tanmoy' in NameDOB\n",
    "'None' in NameDOB"
   ]
  },
  {
   "cell_type": "code",
   "execution_count": 144,
   "metadata": {},
   "outputs": [
    {
     "data": {
      "text/plain": [
       "dict_keys(['tanmoy', 'Soumendu', 'Indranil', 'Soumashis', 'Sandipan', 'Swapnil'])"
      ]
     },
     "execution_count": 144,
     "metadata": {},
     "output_type": "execute_result"
    }
   ],
   "source": [
    "# to see all elements\n",
    "\n",
    "NameDOB.values()  # Output dict_values([1999, 1999, 1998, 1999, 1997, 1999])\n",
    "NameDOB.keys()    # Output dict_keys(['tanmoy', 'Soumendu', 'Indranil', 'Soumashis', 'Sandipan', 'Swapnil'])"
   ]
  },
  {
   "cell_type": "code",
   "execution_count": null,
   "metadata": {},
   "outputs": [],
   "source": []
  }
 ],
 "metadata": {
  "kernelspec": {
   "display_name": "Python 3.6.3 64-bit",
   "language": "python",
   "name": "python36364bita3d986829d8f42d09a71f76c209511cb"
  },
  "language_info": {
   "codemirror_mode": {
    "name": "ipython",
    "version": 3
   },
   "file_extension": ".py",
   "mimetype": "text/x-python",
   "name": "python",
   "nbconvert_exporter": "python",
   "pygments_lexer": "ipython3",
   "version": "3.6.3"
  }
 },
 "nbformat": 4,
 "nbformat_minor": 4
}
