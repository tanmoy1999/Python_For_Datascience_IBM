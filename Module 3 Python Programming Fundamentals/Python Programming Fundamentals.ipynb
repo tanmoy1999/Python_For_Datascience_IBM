{
 "cells": [
  {
   "cell_type": "markdown",
   "metadata": {},
   "source": [
    "# Python Programming Fundamentals\n",
    "\n",
    "In this lesson you will learn about:\n",
    "1. Conditions and Branching\n",
    "2. Loops\n",
    "3. Functions\n",
    "4. Objects and Classes"
   ]
  },
  {
   "cell_type": "markdown",
   "metadata": {},
   "source": [
    "## 1.  Conditions and Branching\n",
    "\n",
    "### Basic Operators\n",
    "1. == checking\n",
    "2. '>' greater than\n",
    "3. < lesser than\n",
    "4. != not equals to "
   ]
  },
  {
   "cell_type": "code",
   "execution_count": 12,
   "metadata": {},
   "outputs": [
    {
     "name": "stdout",
     "output_type": "stream",
     "text": [
      "You are eligible\n",
      "go on\n"
     ]
    }
   ],
   "source": [
    "# Condition checking using if()\n",
    "\n",
    "age = 1\n",
    "if(age <= 19):\n",
    "    print('You are eligible')\n",
    "print('go on')\n"
   ]
  },
  {
   "cell_type": "code",
   "execution_count": 13,
   "metadata": {},
   "outputs": [
    {
     "name": "stdout",
     "output_type": "stream",
     "text": [
      "You are eligible\n"
     ]
    }
   ],
   "source": [
    "# else statement\n",
    "\n",
    "age = 1\n",
    "if(age <= 19):\n",
    "    print('You are eligible')\n",
    "else:\n",
    "    print('not eligible')"
   ]
  },
  {
   "cell_type": "code",
   "execution_count": 16,
   "metadata": {},
   "outputs": [
    {
     "name": "stdout",
     "output_type": "stream",
     "text": [
      "You are eligible\n"
     ]
    }
   ],
   "source": [
    "# elseif statement is elif()\n",
    "\n",
    "age = 11\n",
    "if(age <= 19):\n",
    "    print('You are eligible')\n",
    "elif(age>10):\n",
    "    print('you can request')"
   ]
  },
  {
   "cell_type": "markdown",
   "metadata": {},
   "source": [
    "### Logical operators"
   ]
  },
  {
   "cell_type": "code",
   "execution_count": 30,
   "metadata": {},
   "outputs": [
    {
     "name": "stdout",
     "output_type": "stream",
     "text": [
      "or lol\n",
      "and lol11\n"
     ]
    }
   ],
   "source": [
    "# not()\n",
    "\n",
    "not(True)  #Output False\n",
    "\n",
    "# () or ()\n",
    "\n",
    "year = 1980\n",
    "if(year < 2000) or (year > 1989):\n",
    "    print('or lol')\n",
    "else:\n",
    "    print('or lol11')\n",
    "\n",
    "# and()\n",
    "\n",
    "year = 1989\n",
    "if(year == 2000) and (year == 1990 ):\n",
    "    print('and lol')\n",
    "else:\n",
    "    print('and lol11')"
   ]
  },
  {
   "cell_type": "markdown",
   "metadata": {},
   "source": [
    "## 2. Loops \n",
    "\n",
    "1. for \n",
    "2. while"
   ]
  },
  {
   "cell_type": "code",
   "execution_count": 39,
   "metadata": {},
   "outputs": [
    {
     "data": {
      "text/plain": [
       "range(10, 40)"
      ]
     },
     "execution_count": 39,
     "metadata": {},
     "output_type": "execute_result"
    }
   ],
   "source": [
    "# Range fundtion in python3 range function will not print series of numbers like in py2\n",
    "\n",
    "range(10,40)\n"
   ]
  },
  {
   "cell_type": "markdown",
   "metadata": {},
   "source": [
    "### a. for loops\n"
   ]
  },
  {
   "cell_type": "code",
   "execution_count": 55,
   "metadata": {},
   "outputs": [
    {
     "data": {
      "text/plain": [
       "['white', 'white', 'white', 'white', 'white']"
      ]
     },
     "execution_count": 55,
     "metadata": {},
     "output_type": "execute_result"
    }
   ],
   "source": [
    "squares = ['red','yellow','green','blue','orange']\n",
    "\n",
    "for i in range(0,5):      # here i is the index and  range is the value of that index\n",
    "    squares[i] = 'white'\n",
    "squares"
   ]
  },
  {
   "cell_type": "code",
   "execution_count": 60,
   "metadata": {},
   "outputs": [
    {
     "name": "stdout",
     "output_type": "stream",
     "text": [
      "red\n",
      "yellow\n",
      "green\n",
      "blue\n",
      "orange\n"
     ]
    }
   ],
   "source": [
    "squares = ['red','yellow','green','blue','orange']\n",
    "\n",
    "for square in squares:\n",
    "    print(square)\n"
   ]
  },
  {
   "cell_type": "code",
   "execution_count": 59,
   "metadata": {},
   "outputs": [
    {
     "name": "stdout",
     "output_type": "stream",
     "text": [
      "red 0\n",
      "yellow 1\n",
      "green 2\n",
      "blue 3\n",
      "orange 4\n"
     ]
    }
   ],
   "source": [
    "squares = ['red','yellow','green','blue','orange']\n",
    "\n",
    "for i,square in enumerate(squares):\n",
    "    print(square,i)"
   ]
  },
  {
   "cell_type": "code",
   "execution_count": 78,
   "metadata": {},
   "outputs": [
    {
     "data": {
      "text/plain": [
       "['red', 'yellow', 'green']"
      ]
     },
     "execution_count": 78,
     "metadata": {},
     "output_type": "execute_result"
    }
   ],
   "source": [
    "# While loop  (in while loop when the codition is false then it exits)\n",
    "\n",
    "squares = ['red','yellow','green','blue','orange']\n",
    "newSquares = []\n",
    "i = 0\n",
    "while(squares[i] != 'blue'):\n",
    "    newSquares.append(squares[i])\n",
    "    i = i+1\n",
    "newSquares"
   ]
  },
  {
   "cell_type": "code",
   "execution_count": 80,
   "metadata": {},
   "outputs": [
    {
     "name": "stdout",
     "output_type": "stream",
     "text": [
      "1\n",
      "3\n",
      "4\n"
     ]
    }
   ],
   "source": [
    "a = [1,3,4]\n",
    "for A in a:\n",
    "    print(A)"
   ]
  },
  {
   "cell_type": "markdown",
   "metadata": {},
   "source": [
    "## 3. Functions"
   ]
  },
  {
   "cell_type": "code",
   "execution_count": 86,
   "metadata": {},
   "outputs": [],
   "source": [
    "def f(*x):\n",
    "    return sum(c)\n"
   ]
  },
  {
   "cell_type": "code",
   "execution_count": 102,
   "metadata": {},
   "outputs": [
    {
     "data": {
      "text/plain": [
       "'lollollollol'"
      ]
     },
     "execution_count": 102,
     "metadata": {},
     "output_type": "execute_result"
    }
   ],
   "source": [
    "def sum(a,b,c,d):\n",
    "    sum = a+b+c+d\n",
    "    return sum\n",
    "\n",
    "def mult(a,b):\n",
    "    t = a*b\n",
    "    return t\n",
    "\n",
    "sum(4,3,5,6)\n",
    "sum(1.2,4,6,7)\n",
    "mult('lol',4)  # Output 'lollollollol'"
   ]
  },
  {
   "cell_type": "code",
   "execution_count": 107,
   "metadata": {},
   "outputs": [
    {
     "name": "stdout",
     "output_type": "stream",
     "text": [
      "Monkey\n",
      "None\n"
     ]
    }
   ],
   "source": [
    "# function with no return statement\n",
    "\n",
    "def mj():\n",
    "    print(\"Monkey\")\n",
    "\n",
    "mj()\n",
    "\n",
    "# Use of PASS\n",
    "def NoWork():\n",
    "    pass\n",
    "\n",
    "print(NoWork())"
   ]
  },
  {
   "cell_type": "code",
   "execution_count": 108,
   "metadata": {},
   "outputs": [
    {
     "name": "stdout",
     "output_type": "stream",
     "text": [
      "asd 4 asd 5\n"
     ]
    },
    {
     "data": {
      "text/plain": [
       "20"
      ]
     },
     "execution_count": 108,
     "metadata": {},
     "output_type": "execute_result"
    }
   ],
   "source": [
    "def multi(a,b):\n",
    "    print('asd',a,'asd',b)\n",
    "    t = a*b\n",
    "    return t\n",
    "\n",
    "multi(4,5)"
   ]
  },
  {
   "cell_type": "code",
   "execution_count": 110,
   "metadata": {},
   "outputs": [
    {
     "name": "stdout",
     "output_type": "stream",
     "text": [
      "hey 12 in 0\n",
      "hey 56 in 1\n",
      "hey 12 in 2\n",
      "hey 332 in 3\n"
     ]
    }
   ],
   "source": [
    "# Use of loops in functions\n",
    "\n",
    "def santa(arry):\n",
    "    for i,s in enumerate(arry):\n",
    "        print('hey',s,'in',i)\n",
    "\n",
    "album = [12,56,12,332]\n",
    "santa(album)"
   ]
  },
  {
   "cell_type": "code",
   "execution_count": 114,
   "metadata": {},
   "outputs": [
    {
     "name": "stdout",
     "output_type": "stream",
     "text": [
      "asd\n",
      "awr\n",
      "asdr\n",
      "2nd text\n"
     ]
    }
   ],
   "source": [
    "# Variadic Parameters allows us to input variable number of element\n",
    "\n",
    "def art(*names):\n",
    "    for i in names:\n",
    "        print(i)\n",
    "\n",
    "art('asd','awr','asdr')\n",
    "art('2nd text')"
   ]
  },
  {
   "cell_type": "code",
   "execution_count": 117,
   "metadata": {},
   "outputs": [
    {
     "name": "stdout",
     "output_type": "stream",
     "text": [
      "My Name is Tanmoy\n",
      "My Name is Anirban\n",
      "My Name is Indro\n"
     ]
    }
   ],
   "source": [
    "# Global Scope\n",
    "\n",
    "def salu(y):\n",
    "    print('My Name is',y)\n",
    "\n",
    "salu('Tanmoy')\n",
    "salu('Anirban')\n",
    "salu('Indro')"
   ]
  },
  {
   "cell_type": "code",
   "execution_count": 128,
   "metadata": {},
   "outputs": [
    {
     "name": "stdout",
     "output_type": "stream",
     "text": [
      "he was born in  1982\n",
      "he celebrated on  1982\n",
      "1982\n"
     ]
    },
    {
     "data": {
      "text/plain": [
       "2017"
      ]
     },
     "execution_count": 128,
     "metadata": {},
     "output_type": "execute_result"
    }
   ],
   "source": [
    "# Local Scope\n",
    "\n",
    "def date2():\n",
    "    date1 = 1982\n",
    "    return date1\n",
    "\n",
    "print('he was born in ',date2())\n",
    "print('he celebrated on ',date2())\n",
    "\n",
    "print(date2())\n",
    "date1 = 2017\n",
    "date1"
   ]
  },
  {
   "cell_type": "code",
   "execution_count": 154,
   "metadata": {},
   "outputs": [
    {
     "name": "stdout",
     "output_type": "stream",
     "text": [
      "7\n"
     ]
    }
   ],
   "source": [
    "# Variable:\n",
    "#If the function doesn't find the value of varialble inside \n",
    "#the function then it will search in global scope and take the value if available\n",
    "\n",
    "def kal(y):\n",
    "    c = y+z+1\n",
    "    return c\n",
    "def kal1(y):\n",
    "    global t\n",
    "    global u\n",
    "    u = 7\n",
    "    t = 10\n",
    "    m = y+10+t\n",
    "    return m\n",
    "\n",
    "kal1(10)\n",
    "print(u)"
   ]
  },
  {
   "cell_type": "markdown",
   "metadata": {},
   "source": [
    "## 4. Objects and Classes"
   ]
  },
  {
   "cell_type": "code",
   "execution_count": 181,
   "metadata": {},
   "outputs": [
    {
     "data": {
      "text/plain": [
       "'red'"
      ]
     },
     "execution_count": 181,
     "metadata": {},
     "output_type": "execute_result"
    }
   ],
   "source": [
    "# Creating own Classes\n",
    "# Class has Data attributes and Methods\n",
    "# lets take Class Circle\n",
    "# Attributes are Radius and Color or Parameters\n",
    "# __init__ is a constructor\n",
    "# self parameter refers to the newly created class\n",
    "\n",
    "class Circle(object): # Defining our own Class\n",
    "    def __init__(self,radius,color):         #Defining attributes used to\n",
    "        self.radius = radius\n",
    "        self.color = color                   #initailise each instance of the class using class constructor\n",
    "        \n",
    "    def radiuss(self,k):                     # This is Methods which user can change and create\n",
    "        self.radius = self.radius + k\n",
    "    \n",
    "        \n",
    "RedCircle = Circle(10,'red')\n",
    "RedCircle.radius        # Output 10\n",
    "RedCircle.radius = 5    # Output 5\n",
    "RedCircle.radiuss(6)\n",
    "RedCircle.radius        # Output 11\n",
    "RedCircle.color         # Output red"
   ]
  },
  {
   "cell_type": "markdown",
   "metadata": {},
   "source": [
    "#### Quiz Questions"
   ]
  },
  {
   "cell_type": "code",
   "execution_count": 182,
   "metadata": {},
   "outputs": [],
   "source": [
    "class Car(object):\n",
    "    def __init__(self,make,model,color):\n",
    "        self.make=make;\n",
    "        self.model=model;\n",
    "        self.color=color;\n",
    "        self.owner_number=0 \n",
    "    def car_info(self):\n",
    "        print(\"make: \",self.make)\n",
    "        print(\"model:\", self.model)\n",
    "        print(\"color:\",self.color)\n",
    "        print(\"number of owners:\",self.owner_number)\n",
    "    def sell(self):\n",
    "        self.owner_number=self.owner_number+1\n",
    "\n",
    "make=\"BMW\"\n",
    "model=\"M3\"\n",
    "color=\"red\"\n",
    "\n",
    "my_car = Car(model='city',make='honda',color='silver')"
   ]
  },
  {
   "cell_type": "code",
   "execution_count": 183,
   "metadata": {},
   "outputs": [
    {
     "name": "stdout",
     "output_type": "stream",
     "text": [
      "make:  honda\n",
      "model: city\n",
      "color: silver\n",
      "number of owners: 0\n"
     ]
    }
   ],
   "source": [
    "my_car.car_info()"
   ]
  },
  {
   "cell_type": "code",
   "execution_count": 184,
   "metadata": {},
   "outputs": [
    {
     "name": "stdout",
     "output_type": "stream",
     "text": [
      "make:  honda\n",
      "model: city\n",
      "color: silver\n",
      "number of owners: 0\n",
      "make:  honda\n",
      "model: city\n",
      "color: silver\n",
      "number of owners: 0\n",
      "make:  honda\n",
      "model: city\n",
      "color: silver\n",
      "number of owners: 0\n",
      "make:  honda\n",
      "model: city\n",
      "color: silver\n",
      "number of owners: 0\n",
      "make:  honda\n",
      "model: city\n",
      "color: silver\n",
      "number of owners: 0\n"
     ]
    }
   ],
   "source": [
    "for i in range(5):\n",
    "    my_car.car_info()"
   ]
  },
  {
   "cell_type": "code",
   "execution_count": null,
   "metadata": {},
   "outputs": [],
   "source": []
  }
 ],
 "metadata": {
  "kernelspec": {
   "display_name": "Python 3.6.3 64-bit",
   "language": "python",
   "name": "python36364bita3d986829d8f42d09a71f76c209511cb"
  }
 },
 "nbformat": 4,
 "nbformat_minor": 4
}
